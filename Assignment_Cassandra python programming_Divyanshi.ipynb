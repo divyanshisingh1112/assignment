{
 "cells": [
  {
   "cell_type": "markdown",
   "metadata": {},
   "source": [
    "### Import Packages"
   ]
  },
  {
   "cell_type": "code",
   "execution_count": 1,
   "metadata": {},
   "outputs": [],
   "source": [
    "import pandas as pd\n",
    "from cassandra.cluster import Cluster"
   ]
  },
  {
   "cell_type": "markdown",
   "metadata": {},
   "source": [
    "### Create a session connection to Cassandra cluster"
   ]
  },
  {
   "cell_type": "code",
   "execution_count": 2,
   "metadata": {},
   "outputs": [],
   "source": [
    "clstr = Cluster()\n",
    "session = clstr.connect()"
   ]
  },
  {
   "cell_type": "markdown",
   "metadata": {},
   "source": [
    "### Create a keyspace called bd23"
   ]
  },
  {
   "cell_type": "code",
   "execution_count": 4,
   "metadata": {},
   "outputs": [
    {
     "data": {
      "text/plain": [
       "<cassandra.cluster.ResultSet at 0x7fe0ea353690>"
      ]
     },
     "execution_count": 4,
     "metadata": {},
     "output_type": "execute_result"
    }
   ],
   "source": [
    "session.execute(\"CREATE KEYSPACE IF NOT EXISTS bd23 WITH REPLICATION = {'class':'SimpleStrategy', 'replication_factor':2}\")\n"
   ]
  },
  {
   "cell_type": "code",
   "execution_count": 3,
   "metadata": {},
   "outputs": [
    {
     "name": "stdout",
     "output_type": "stream",
     "text": [
      "bd23\n",
      "system\n",
      "system_auth\n",
      "system_distributed\n",
      "system_schema\n",
      "system_traces\n",
      "system_views\n",
      "system_virtual_schema\n",
      "w04python\n"
     ]
    }
   ],
   "source": [
    "rows = session.execute(\"desc keyspaces\")\n",
    "for row in rows:\n",
    "    print(f\"{row[0]}\")\n",
    "\t"
   ]
  },
  {
   "cell_type": "markdown",
   "metadata": {},
   "source": [
    "### Create a Inventory table "
   ]
  },
  {
   "cell_type": "code",
   "execution_count": 4,
   "metadata": {},
   "outputs": [
    {
     "data": {
      "text/plain": [
       "<cassandra.cluster.ResultSet at 0x7fbf2997d750>"
      ]
     },
     "execution_count": 4,
     "metadata": {},
     "output_type": "execute_result"
    }
   ],
   "source": [
    "\n",
    "session.execute(\"\"\"\n",
    "CREATE TABLE IF NOT EXISTS bd23.inventory ( \n",
    "    SKU INT,\n",
    "    pname TEXT,\n",
    "    description TEXT,\n",
    "    warehouse_num INT,\n",
    "    PRIMARY KEY(SKU)\n",
    ");\n",
    "\"\"\")"
   ]
  },
  {
   "cell_type": "markdown",
   "metadata": {},
   "source": [
    "### Load Data"
   ]
  },
  {
   "cell_type": "code",
   "execution_count": 5,
   "metadata": {},
   "outputs": [
    {
     "data": {
      "text/html": [
       "<div>\n",
       "<style scoped>\n",
       "    .dataframe tbody tr th:only-of-type {\n",
       "        vertical-align: middle;\n",
       "    }\n",
       "\n",
       "    .dataframe tbody tr th {\n",
       "        vertical-align: top;\n",
       "    }\n",
       "\n",
       "    .dataframe thead th {\n",
       "        text-align: right;\n",
       "    }\n",
       "</style>\n",
       "<table border=\"1\" class=\"dataframe\">\n",
       "  <thead>\n",
       "    <tr style=\"text-align: right;\">\n",
       "      <th></th>\n",
       "      <th>SKU</th>\n",
       "      <th>pname</th>\n",
       "      <th>description</th>\n",
       "      <th>warehouse_num</th>\n",
       "    </tr>\n",
       "  </thead>\n",
       "  <tbody>\n",
       "    <tr>\n",
       "      <th>0</th>\n",
       "      <td>1</td>\n",
       "      <td>'Smartphone'</td>\n",
       "      <td>'High-end smartphone with 6.2-inch display'</td>\n",
       "      <td>123</td>\n",
       "    </tr>\n",
       "    <tr>\n",
       "      <th>1</th>\n",
       "      <td>2</td>\n",
       "      <td>'Laptop'</td>\n",
       "      <td>'Powerful laptop with Intel Core i7 processor'</td>\n",
       "      <td>456</td>\n",
       "    </tr>\n",
       "    <tr>\n",
       "      <th>2</th>\n",
       "      <td>3</td>\n",
       "      <td>'Tablet'</td>\n",
       "      <td>'Lightweight tablet with long battery life'</td>\n",
       "      <td>123</td>\n",
       "    </tr>\n",
       "    <tr>\n",
       "      <th>3</th>\n",
       "      <td>4</td>\n",
       "      <td>'Headphones'</td>\n",
       "      <td>'Wireless headphones with noise-cancellation'</td>\n",
       "      <td>789</td>\n",
       "    </tr>\n",
       "    <tr>\n",
       "      <th>4</th>\n",
       "      <td>5</td>\n",
       "      <td>'Camera'</td>\n",
       "      <td>'Digital camera with 24MP sensor and 4K record...</td>\n",
       "      <td>567</td>\n",
       "    </tr>\n",
       "    <tr>\n",
       "      <th>5</th>\n",
       "      <td>6</td>\n",
       "      <td>'Smartwatch'</td>\n",
       "      <td>'Fitness smartwatch with heart rate monitor'</td>\n",
       "      <td>123</td>\n",
       "    </tr>\n",
       "  </tbody>\n",
       "</table>\n",
       "</div>"
      ],
      "text/plain": [
       "   SKU         pname                                        description  \\\n",
       "0    1  'Smartphone'        'High-end smartphone with 6.2-inch display'   \n",
       "1    2      'Laptop'     'Powerful laptop with Intel Core i7 processor'   \n",
       "2    3      'Tablet'        'Lightweight tablet with long battery life'   \n",
       "3    4  'Headphones'      'Wireless headphones with noise-cancellation'   \n",
       "4    5      'Camera'  'Digital camera with 24MP sensor and 4K record...   \n",
       "5    6  'Smartwatch'       'Fitness smartwatch with heart rate monitor'   \n",
       "\n",
       "   warehouse_num  \n",
       "0            123  \n",
       "1            456  \n",
       "2            123  \n",
       "3            789  \n",
       "4            567  \n",
       "5            123  "
      ]
     },
     "execution_count": 5,
     "metadata": {},
     "output_type": "execute_result"
    }
   ],
   "source": [
    "df=pd.read_csv(\"inventory.csv\")\n",
    "df"
   ]
  },
  {
   "cell_type": "markdown",
   "metadata": {},
   "source": [
    "### Insert rows of data into inventory table"
   ]
  },
  {
   "cell_type": "code",
   "execution_count": 9,
   "metadata": {},
   "outputs": [
    {
     "name": "stdout",
     "output_type": "stream",
     "text": [
      "SKU = 1, pname ='Smartphone', description = 'High-end smartphone with 6.2-inch display', warehouse_num = 123\n",
      "SKU = 2, pname ='Laptop', description = 'Powerful laptop with Intel Core i7 processor', warehouse_num = 456\n",
      "SKU = 3, pname ='Tablet', description = 'Lightweight tablet with long battery life', warehouse_num = 123\n",
      "SKU = 4, pname ='Headphones', description = 'Wireless headphones with noise-cancellation', warehouse_num = 789\n",
      "SKU = 5, pname ='Camera', description = 'Digital camera with 24MP sensor and 4K recording', warehouse_num = 567\n",
      "SKU = 6, pname ='Smartwatch', description = 'Fitness smartwatch with heart rate monitor', warehouse_num = 123\n"
     ]
    }
   ],
   "source": [
    "for index, row in df.iterrows():\n",
    "    print(f\"SKU = {row.SKU}, pname ={row.pname}, description = {row.description}, warehouse_num = {row.warehouse_num}\")"
   ]
  },
  {
   "cell_type": "code",
   "execution_count": 10,
   "metadata": {},
   "outputs": [
    {
     "name": "stdout",
     "output_type": "stream",
     "text": [
      "\n",
      "        INSERT INTO bd23.inventory (SKU, pname, description, warehouse_num)\n",
      "        VALUES (1, 'Smartphone', 'High-end smartphone with 6.2-inch display', 123);\n",
      "        \n",
      "\n",
      "        INSERT INTO bd23.inventory (SKU, pname, description, warehouse_num)\n",
      "        VALUES (2, 'Laptop', 'Powerful laptop with Intel Core i7 processor', 456);\n",
      "        \n",
      "\n",
      "        INSERT INTO bd23.inventory (SKU, pname, description, warehouse_num)\n",
      "        VALUES (3, 'Tablet', 'Lightweight tablet with long battery life', 123);\n",
      "        \n",
      "\n",
      "        INSERT INTO bd23.inventory (SKU, pname, description, warehouse_num)\n",
      "        VALUES (4, 'Headphones', 'Wireless headphones with noise-cancellation', 789);\n",
      "        \n",
      "\n",
      "        INSERT INTO bd23.inventory (SKU, pname, description, warehouse_num)\n",
      "        VALUES (5, 'Camera', 'Digital camera with 24MP sensor and 4K recording', 567);\n",
      "        \n",
      "\n",
      "        INSERT INTO bd23.inventory (SKU, pname, description, warehouse_num)\n",
      "        VALUES (6, 'Smartwatch', 'Fitness smartwatch with heart rate monitor', 123);\n",
      "        \n"
     ]
    }
   ],
   "source": [
    "for index, row in df.iterrows():\n",
    "    print(f\"\"\"\n",
    "        INSERT INTO bd23.inventory (SKU, pname, description, warehouse_num)\n",
    "        VALUES ({row[0]}, {row[1]}, {row[2]}, {row[3]});\n",
    "        \"\"\"\n",
    "    )\n",
    "    session.execute(f\"\"\"\n",
    "        INSERT INTO bd23.inventory (SKU, pname, description, warehouse_num)\n",
    "        VALUES ({row[0]}, {row[1]}, {row[2]}, {row[3]});\n",
    "        \"\"\"\n",
    "    )\n"
   ]
  },
  {
   "cell_type": "markdown",
   "metadata": {},
   "source": [
    "### Search for all products located at a given location (warehouse_num 123)"
   ]
  },
  {
   "cell_type": "code",
   "execution_count": 16,
   "metadata": {},
   "outputs": [
    {
     "name": "stdout",
     "output_type": "stream",
     "text": [
      "SKU=1, pname=Smartphone, description=High-end smartphone with 6.2-inch display, warehouse_num=123\n",
      "SKU=6, pname=Smartwatch, description=Fitness smartwatch with heart rate monitor, warehouse_num=123\n",
      "SKU=3, pname=Tablet, description=Lightweight tablet with long battery life, warehouse_num=123\n"
     ]
    }
   ],
   "source": [
    "rows = session.execute(\"select (SKU, pname, description, warehouse_num) from bd23.inventory where warehouse_num = 123\")\n",
    "for row in rows:\n",
    "    print(f\"SKU={row[0][0]}, pname={row[0][1]}, description={row[0][2]}, warehouse_num={row[0][3]}\")"
   ]
  },
  {
   "cell_type": "markdown",
   "metadata": {},
   "source": []
  }
 ],
 "metadata": {
  "kernelspec": {
   "display_name": "bd",
   "language": "python",
   "name": "python3"
  },
  "language_info": {
   "codemirror_mode": {
    "name": "ipython",
    "version": 3
   },
   "file_extension": ".py",
   "mimetype": "text/x-python",
   "name": "python",
   "nbconvert_exporter": "python",
   "pygments_lexer": "ipython3",
   "version": "3.11.5"
  },
  "orig_nbformat": 4
 },
 "nbformat": 4,
 "nbformat_minor": 2
}

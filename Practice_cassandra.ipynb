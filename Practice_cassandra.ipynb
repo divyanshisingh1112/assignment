{
 "cells": [
  {
   "cell_type": "markdown",
   "metadata": {},
   "source": [
    "# Cassandra Practice Notebook"
   ]
  },
  {
   "cell_type": "code",
   "execution_count": 1,
   "metadata": {},
   "outputs": [],
   "source": [
    "# install cassandra drivers : conda install -c conda-forge pandas "
   ]
  },
  {
   "cell_type": "markdown",
   "metadata": {},
   "source": [
    "Import Packages\n"
   ]
  },
  {
   "cell_type": "code",
   "execution_count": 2,
   "metadata": {},
   "outputs": [],
   "source": [
    "import pandas as pd\n",
    "from cassandra.cluster import Cluster"
   ]
  },
  {
   "cell_type": "markdown",
   "metadata": {},
   "source": [
    "### Create a session connection to Cassandra cluster"
   ]
  },
  {
   "cell_type": "code",
   "execution_count": 3,
   "metadata": {},
   "outputs": [],
   "source": [
    "clstr = Cluster()\n",
    "session = clstr.connect()"
   ]
  },
  {
   "cell_type": "markdown",
   "metadata": {},
   "source": [
    "# create Keyspace\n"
   ]
  },
  {
   "cell_type": "code",
   "execution_count": 4,
   "metadata": {},
   "outputs": [
    {
     "name": "stdout",
     "output_type": "stream",
     "text": [
      "bd\n",
      "system\n",
      "system_auth\n",
      "system_distributed\n",
      "system_schema\n",
      "system_traces\n",
      "system_views\n",
      "system_virtual_schema\n",
      "w04python\n"
     ]
    }
   ],
   "source": [
    "rows = session.execute(\"desc keyspaces\")\n",
    "for row in rows:\n",
    "    print(f\"{row[0]}\")"
   ]
  },
  {
   "cell_type": "code",
   "execution_count": 5,
   "metadata": {},
   "outputs": [
    {
     "data": {
      "text/plain": [
       "<cassandra.cluster.ResultSet at 0x7fb98f076850>"
      ]
     },
     "execution_count": 5,
     "metadata": {},
     "output_type": "execute_result"
    }
   ],
   "source": [
    "session.execute(\"\"\"\n",
    "    CREATE KEYSPACE IF NOT EXISTS bd WITH REPLICATION = {\n",
    "        'class':'SimpleStrategy', \n",
    "        'replication_factor':2\n",
    "    }\n",
    "\"\"\")"
   ]
  },
  {
   "cell_type": "code",
   "execution_count": 6,
   "metadata": {},
   "outputs": [
    {
     "name": "stdout",
     "output_type": "stream",
     "text": [
      "bd\n",
      "system\n",
      "system_auth\n",
      "system_distributed\n",
      "system_schema\n",
      "system_traces\n",
      "system_views\n",
      "system_virtual_schema\n",
      "w04python\n"
     ]
    }
   ],
   "source": [
    "rows = session.execute(\"desc keyspaces\")\n",
    "for row in rows:\n",
    "    print(f\"{row[0]}\")"
   ]
  },
  {
   "cell_type": "markdown",
   "metadata": {},
   "source": [
    "# create a table for testing"
   ]
  },
  {
   "cell_type": "code",
   "execution_count": 7,
   "metadata": {},
   "outputs": [
    {
     "data": {
      "text/plain": [
       "<cassandra.cluster.ResultSet at 0x7fb98dee6bd0>"
      ]
     },
     "execution_count": 7,
     "metadata": {},
     "output_type": "execute_result"
    }
   ],
   "source": [
    "session.execute(\"\"\"\n",
    "CREATE TABLE IF NOT EXISTS bd.Pateint_list ( \n",
    "    patient_id INT, \n",
    "    f_name TEXT, \n",
    "    l_name TEXT, \n",
    "    disease TEXT,\n",
    "    ward_no INT, \n",
    "    PRIMARY KEY(ward_no, disease, patient_id)\n",
    ");\n",
    "\"\"\")"
   ]
  },
  {
   "cell_type": "markdown",
   "metadata": {},
   "source": [
    "# load Data"
   ]
  },
  {
   "cell_type": "code",
   "execution_count": 13,
   "metadata": {},
   "outputs": [
    {
     "data": {
      "text/html": [
       "<div>\n",
       "<style scoped>\n",
       "    .dataframe tbody tr th:only-of-type {\n",
       "        vertical-align: middle;\n",
       "    }\n",
       "\n",
       "    .dataframe tbody tr th {\n",
       "        vertical-align: top;\n",
       "    }\n",
       "\n",
       "    .dataframe thead th {\n",
       "        text-align: right;\n",
       "    }\n",
       "</style>\n",
       "<table border=\"1\" class=\"dataframe\">\n",
       "  <thead>\n",
       "    <tr style=\"text-align: right;\">\n",
       "      <th></th>\n",
       "      <th>ward_no</th>\n",
       "      <th>disease</th>\n",
       "      <th>patient_id</th>\n",
       "      <th>f_name</th>\n",
       "      <th>l_name</th>\n",
       "    </tr>\n",
       "  </thead>\n",
       "  <tbody>\n",
       "    <tr>\n",
       "      <th>0</th>\n",
       "      <td>1</td>\n",
       "      <td>'Flu'</td>\n",
       "      <td>1001</td>\n",
       "      <td>'John'</td>\n",
       "      <td>'Doe'</td>\n",
       "    </tr>\n",
       "    <tr>\n",
       "      <th>1</th>\n",
       "      <td>2</td>\n",
       "      <td>'COVID-19'</td>\n",
       "      <td>1002</td>\n",
       "      <td>'Jane'</td>\n",
       "      <td>'Smith'</td>\n",
       "    </tr>\n",
       "    <tr>\n",
       "      <th>2</th>\n",
       "      <td>1</td>\n",
       "      <td>'Chickenpox'</td>\n",
       "      <td>1003</td>\n",
       "      <td>'James'</td>\n",
       "      <td>'Brown'</td>\n",
       "    </tr>\n",
       "    <tr>\n",
       "      <th>3</th>\n",
       "      <td>3</td>\n",
       "      <td>'Malaria'</td>\n",
       "      <td>1004</td>\n",
       "      <td>'Lisa'</td>\n",
       "      <td>'White'</td>\n",
       "    </tr>\n",
       "    <tr>\n",
       "      <th>4</th>\n",
       "      <td>2</td>\n",
       "      <td>'Flu'</td>\n",
       "      <td>1005</td>\n",
       "      <td>'Robert'</td>\n",
       "      <td>'Johnson'</td>\n",
       "    </tr>\n",
       "    <tr>\n",
       "      <th>5</th>\n",
       "      <td>4</td>\n",
       "      <td>'COVID-19'</td>\n",
       "      <td>1006</td>\n",
       "      <td>'Mary'</td>\n",
       "      <td>'Lee'</td>\n",
       "    </tr>\n",
       "    <tr>\n",
       "      <th>6</th>\n",
       "      <td>3</td>\n",
       "      <td>'Chickenpox'</td>\n",
       "      <td>1007</td>\n",
       "      <td>'Linda'</td>\n",
       "      <td>'Green'</td>\n",
       "    </tr>\n",
       "    <tr>\n",
       "      <th>7</th>\n",
       "      <td>1</td>\n",
       "      <td>'Malaria'</td>\n",
       "      <td>1008</td>\n",
       "      <td>'Michael'</td>\n",
       "      <td>'Miller'</td>\n",
       "    </tr>\n",
       "  </tbody>\n",
       "</table>\n",
       "</div>"
      ],
      "text/plain": [
       "   ward_no       disease  patient_id     f_name     l_name\n",
       "0        1         'Flu'        1001     'John'      'Doe'\n",
       "1        2    'COVID-19'        1002     'Jane'    'Smith'\n",
       "2        1  'Chickenpox'        1003    'James'    'Brown'\n",
       "3        3     'Malaria'        1004     'Lisa'    'White'\n",
       "4        2         'Flu'        1005   'Robert'  'Johnson'\n",
       "5        4    'COVID-19'        1006     'Mary'      'Lee'\n",
       "6        3  'Chickenpox'        1007    'Linda'    'Green'\n",
       "7        1     'Malaria'        1008  'Michael'   'Miller'"
      ]
     },
     "execution_count": 13,
     "metadata": {},
     "output_type": "execute_result"
    }
   ],
   "source": [
    "df = pd.read_csv('Patient_list.csv')\n",
    "df"
   ]
  },
  {
   "cell_type": "code",
   "execution_count": 14,
   "metadata": {},
   "outputs": [
    {
     "name": "stdout",
     "output_type": "stream",
     "text": [
      "patient_id = 1001, f_name ='John', l_name = 'Doe', ward_no = 1, disease = 'Flu'\n",
      "patient_id = 1002, f_name ='Jane', l_name = 'Smith', ward_no = 2, disease = 'COVID-19'\n",
      "patient_id = 1003, f_name ='James', l_name = 'Brown', ward_no = 1, disease = 'Chickenpox'\n",
      "patient_id = 1004, f_name ='Lisa', l_name = 'White', ward_no = 3, disease = 'Malaria'\n",
      "patient_id = 1005, f_name ='Robert', l_name = 'Johnson', ward_no = 2, disease = 'Flu'\n",
      "patient_id = 1006, f_name ='Mary', l_name = 'Lee', ward_no = 4, disease = 'COVID-19'\n",
      "patient_id = 1007, f_name ='Linda', l_name = 'Green', ward_no = 3, disease = 'Chickenpox'\n",
      "patient_id = 1008, f_name ='Michael', l_name = 'Miller', ward_no = 1, disease = 'Malaria'\n"
     ]
    }
   ],
   "source": [
    "for index, row in df.iterrows():\n",
    "    print(f\"patient_id = {row.patient_id}, f_name ={row.f_name}, l_name = {row.l_name}, ward_no = {row.ward_no}, disease = {row.disease}\")"
   ]
  },
  {
   "cell_type": "markdown",
   "metadata": {},
   "source": [
    "kepp in mind:\n",
    "all string values inside csv file must be inside ' '.Be careful don't use \" \".\n",
    "The sequence of all the column names must match while inserting the value into the table."
   ]
  },
  {
   "cell_type": "code",
   "execution_count": 17,
   "metadata": {},
   "outputs": [
    {
     "name": "stdout",
     "output_type": "stream",
     "text": [
      "\n",
      "        INSERT INTO bd.Pateint_list (ward_no, disease, patient_id, f_name, l_name)     \n",
      "        VALUES (1, 'Flu', 1001, 'John', 'Doe');\n",
      "        \n",
      "\n",
      "        INSERT INTO bd.Pateint_list (ward_no, disease, patient_id, f_name, l_name)     \n",
      "        VALUES (2, 'COVID-19', 1002, 'Jane', 'Smith');\n",
      "        \n",
      "\n",
      "        INSERT INTO bd.Pateint_list (ward_no, disease, patient_id, f_name, l_name)     \n",
      "        VALUES (1, 'Chickenpox', 1003, 'James', 'Brown');\n",
      "        \n",
      "\n",
      "        INSERT INTO bd.Pateint_list (ward_no, disease, patient_id, f_name, l_name)     \n",
      "        VALUES (3, 'Malaria', 1004, 'Lisa', 'White');\n",
      "        \n",
      "\n",
      "        INSERT INTO bd.Pateint_list (ward_no, disease, patient_id, f_name, l_name)     \n",
      "        VALUES (2, 'Flu', 1005, 'Robert', 'Johnson');\n",
      "        \n",
      "\n",
      "        INSERT INTO bd.Pateint_list (ward_no, disease, patient_id, f_name, l_name)     \n",
      "        VALUES (4, 'COVID-19', 1006, 'Mary', 'Lee');\n",
      "        \n",
      "\n",
      "        INSERT INTO bd.Pateint_list (ward_no, disease, patient_id, f_name, l_name)     \n",
      "        VALUES (3, 'Chickenpox', 1007, 'Linda', 'Green');\n",
      "        \n",
      "\n",
      "        INSERT INTO bd.Pateint_list (ward_no, disease, patient_id, f_name, l_name)     \n",
      "        VALUES (1, 'Malaria', 1008, 'Michael', 'Miller');\n",
      "        \n"
     ]
    }
   ],
   "source": [
    "for index, row in df.iterrows():\n",
    "    print(f\"\"\"\n",
    "        INSERT INTO bd.Pateint_list (ward_no, disease, patient_id, f_name, l_name)     \n",
    "        VALUES ({row[0]}, {row[1]}, {row[2]}, {row[3]}, {row[4]});\n",
    "        \"\"\"\n",
    "    )\n",
    "    session.execute(f\"\"\"\n",
    "        INSERT INTO bd.Pateint_list (ward_no, disease, patient_id, f_name, l_name)     \n",
    "        VALUES ({row[0]}, {row[1]}, {row[2]}, {row[3]}, {row[4]});\n",
    "        \"\"\"\n",
    "    )"
   ]
  },
  {
   "cell_type": "code",
   "execution_count": 20,
   "metadata": {},
   "outputs": [
    {
     "name": "stdout",
     "output_type": "stream",
     "text": [
      "ward_no=1, disease=Chickenpox, patient_id=1003, f_name=James, l_name=Brown\n",
      "ward_no=1, disease=Flu, patient_id=1001, f_name=John, l_name=Doe\n",
      "ward_no=1, disease=Malaria, patient_id=1008, f_name=Michael, l_name=Miller\n",
      "ward_no=2, disease=COVID-19, patient_id=1002, f_name=Jane, l_name=Smith\n",
      "ward_no=2, disease=Flu, patient_id=1005, f_name=Robert, l_name=Johnson\n",
      "ward_no=4, disease=COVID-19, patient_id=1006, f_name=Mary, l_name=Lee\n",
      "ward_no=3, disease=Chickenpox, patient_id=1007, f_name=Linda, l_name=Green\n",
      "ward_no=3, disease=Malaria, patient_id=1004, f_name=Lisa, l_name=White\n"
     ]
    }
   ],
   "source": [
    "rows = session.execute(\"select (ward_no, disease, patient_id, f_name, l_name) from bd.Pateint_list\")\n",
    "for row in rows:\n",
    "    print(f\"ward_no={row[0][0]}, disease={row[0][1]}, patient_id={row[0][2]}, f_name={row[0][3]}, l_name={row[0][4]}\")\n"
   ]
  },
  {
   "cell_type": "markdown",
   "metadata": {},
   "source": [
    "rows = session.execute(\"SELECT ward_no, disease, patient_id, f_name, l_name FROM bd.Pateint_list\")\n",
    "\n",
    "for row in rows:\n",
    "    print(f\"ward_no={row[0]}, disease={row[1]}, patient_id={row[2]}, f_name={row[3]}, l_name={row[4]}\")\n"
   ]
  },
  {
   "cell_type": "code",
   "execution_count": 26,
   "metadata": {},
   "outputs": [
    {
     "name": "stdout",
     "output_type": "stream",
     "text": [
      "f_name=Lisa, l_name=White\n"
     ]
    }
   ],
   "source": [
    "rows = session.execute(\"select (f_name, l_name) from bd.Pateint_list where ward_no=3 AND patient_id = 1004 ALLOW FILTERING\")\n",
    "for row in rows:\n",
    "    print(f\"f_name={row[0][0]}, l_name={row[0][1]}\")\n"
   ]
  },
  {
   "cell_type": "code",
   "execution_count": 28,
   "metadata": {},
   "outputs": [
    {
     "name": "stdout",
     "output_type": "stream",
     "text": [
      "f_name=Lisa, l_name=White\n"
     ]
    }
   ],
   "source": [
    "rows = session.execute(\"select (f_name, l_name) from bd.Pateint_list where ward_no=3 AND disease='Malaria' AND patient_id = 1004 ALLOW FILTERING\")\n",
    "for row in rows:\n",
    "    print(f\"f_name={row[0][0]}, l_name={row[0][1]}\")\n"
   ]
  },
  {
   "cell_type": "markdown",
   "metadata": {},
   "source": [
    "Both of the above queries are similar but one uses partition and other uses ALLOW FILTERING."
   ]
  },
  {
   "cell_type": "markdown",
   "metadata": {},
   "source": [
    "Always choose a partition key based on how you access the data to ensure optimal performance and scalability."
   ]
  }
 ],
 "metadata": {
  "kernelspec": {
   "display_name": "bd",
   "language": "python",
   "name": "python3"
  },
  "language_info": {
   "codemirror_mode": {
    "name": "ipython",
    "version": 3
   },
   "file_extension": ".py",
   "mimetype": "text/x-python",
   "name": "python",
   "nbconvert_exporter": "python",
   "pygments_lexer": "ipython3",
   "version": "3.11.5"
  },
  "orig_nbformat": 4
 },
 "nbformat": 4,
 "nbformat_minor": 2
}
